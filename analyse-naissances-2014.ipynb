{
 "cells": [
  {
   "cell_type": "markdown",
   "metadata": {},
   "source": [
    "## Énoncé :\n",
    "\n",
    "Le nombre de naissances en France en 2014 est de 399 284 hommes contre 381 883 femmes (source : INED).\n",
    "\n",
    "On souhaite tester l’équiprobabilité des naissances de femmes et d'hommes.\n",
    "\n",
    "On pose :\n",
    "\n",
    "La proportion d'hommes théorique est p0 = 0.5\n",
    "\n",
    "L'hypothèse H0 est : p = p0\n",
    "\n",
    "L'hypothèse H1 est : p > p0\n",
    "\n",
    "Reste-t-on sur l'hypothèse H0 ou bien doit-on la rejeter ?"
   ]
  },
  {
   "cell_type": "markdown",
   "metadata": {},
   "source": [
    "## Liens utiles\n",
    "\n",
    "https://gallery.shinyapps.io/dist_calc/\n",
    "\n",
    "https://docs.scipy.org/doc/scipy/reference/generated/scipy.stats.norm.html"
   ]
  },
  {
   "cell_type": "markdown",
   "metadata": {},
   "source": [
    "## Import des librairies"
   ]
  },
  {
   "cell_type": "code",
   "execution_count": 12,
   "metadata": {},
   "outputs": [],
   "source": [
    "from math import sqrt\n",
    "from scipy.stats import norm\n",
    "import matplotlib.pyplot as plt\n",
    "import numpy as np"
   ]
  },
  {
   "cell_type": "markdown",
   "metadata": {},
   "source": [
    "## Préparation des données\n",
    "\n",
    "On prépare les différentes valeurs dont on pourrait avoir besoin :\n",
    "\n",
    "- La fréquence d'hommes observée\n",
    "- La proportion p0 (0.5)\n",
    "- La variance de la loi binomiale théoriquement suivie par notre tirage\n",
    "- L'écart-type de la loi binomiale théoriquement suivie par notre tirage\n",
    "- L'écart-type moyen"
   ]
  },
  {
   "cell_type": "code",
   "execution_count": 13,
   "metadata": {},
   "outputs": [
    {
     "name": "stdout",
     "output_type": "stream",
     "text": [
      "\n",
      "Taille de l'échantillon : 781,167\n",
      "Hommes : 399,284\n",
      "Femmes : 381,883\n",
      "Fréquence observvée : 0.5111\n",
      "\n"
     ]
    }
   ],
   "source": [
    "hommes = 399284\n",
    "femmes = 381883\n",
    "\n",
    "n = hommes + femmes # Taille de l'échantillon\n",
    "f_hommes = hommes / n # Fréquence d'hommes observée\n",
    "f_femmes = femmes / n # Fréquence de femmes observée\n",
    "\n",
    "p = 0.5 # Hypothèse H0\n",
    "\n",
    "e = p*n\n",
    "v = n*p*(1-p) # Variance de la loi H0\n",
    "std = sqrt(v) # Ecart type de la loi H0\n",
    "std_moy = std / n # Ecart type moyen\n",
    "\n",
    "print(f\"\"\"\n",
    "Taille de l'échantillon : {n:,}\n",
    "Hommes : {hommes:,}\n",
    "Femmes : {femmes:,}\n",
    "Fréquence observvée : {f_hommes:.4f}\n",
    "\"\"\")"
   ]
  },
  {
   "cell_type": "markdown",
   "metadata": {},
   "source": [
    "## Calculs des différentes valeurs \n",
    "\n",
    "Même si ce n'est pas demandé, on peut calculer l'intervalle de confiance au seuil de 5%, pour voir si notre fréquence observée est dedans. On souhaite regarder seulement à \"droite\", donc cet intervalle n'est pas pertinent car il contient des valeurs qui ne nous intéressent pas. Mais disons que si notre fréquence observée est dans cet intervalle, on peut d'ores-et-déjà valider l'hypothèse H0.\n",
    "\n",
    "On calcule, par curiosité, le Percent-Point function au dessus duquel on est à 97.5%. Il est implicitement utilisé par la méthode précédente. On voit que pour une loi normale centrée réduite, dans 97.5% des cas, on sera sur une valeur supérieure ou égale à 1,96 z-score.\n",
    "\n",
    "Enfin, on calcule la p-value qui nous intéresse puisque elle seule peut définitivement valider ou non l'hypothèse H0. On veut savoir quelle est l'aire la courbe où la variable suivant une loi normale est supérieure ou égale à notre fréquence observée notée f."
   ]
  },
  {
   "cell_type": "code",
   "execution_count": 15,
   "metadata": {},
   "outputs": [
    {
     "name": "stdout",
     "output_type": "stream",
     "text": [
      "(0.49889121804045816, 0.5011087819595419)\n",
      "1.959963984540054\n",
      "1.3655295002745935e-86\n"
     ]
    }
   ],
   "source": [
    "# Intervalle de fluctuation\n",
    "print(norm.interval(0.95, p, std_moy))\n",
    "\n",
    "# Percent-Point function\n",
    "print(norm.ppf(0.975))\n",
    "\n",
    "# p-value : calcul de l'aire sous la courbe pour une fréquence supérieure ou égale à f\n",
    "print(norm.sf(f_hommes, p, std_moy))"
   ]
  },
  {
   "cell_type": "markdown",
   "metadata": {},
   "source": [
    "## Interprétations\n",
    "\n",
    "La p-value est extrêmement faible, pour ne pas dire nulle. On peut donc rejeter l'hypothèse H0 selon laquelle notre échantillon appartient à une loi de probabilité de 50%.\n",
    "\n",
    "D'ailleurs, l'intervalle de fluctuation nous met d'emblée sur la piste, puisqu'on voit qu'au seuil de 5%, notre fréquence observée n'est pas dedans."
   ]
  },
  {
   "cell_type": "markdown",
   "metadata": {},
   "source": [
    "## Traçons la loi normale\n",
    "\n",
    "Pour s'assurer de nos résultats, on peut les vérifier graphiquement.\n",
    "\n",
    "On trace une loi normale qui approche notre loi binomiale avec comme paramètres :\n",
    "\n",
    "Espérance : la probabilité H0 qui est de 0.5\n",
    "\n",
    "Ecart-type : l'écart-type divisé par le nombre d'individus"
   ]
  },
  {
   "cell_type": "code",
   "execution_count": 16,
   "metadata": {},
   "outputs": [
    {
     "data": {
      "image/png": "[encoded data removed]",
      "text/plain": [
       "<matplotlib.figure.Figure at 0x10d28ab00>"
      ]
     },
     "metadata": {},
     "output_type": "display_data"
    }
   ],
   "source": [
    "# On définit des limites permettant de conserver la partie la plus pertinente\n",
    "x_axis = np.arange(0.4981, 0.5019, 0.0001)\n",
    "\n",
    "# Et on plote :)\n",
    "plt.plot(x_axis, norm.pdf(x_axis,p,std_moy))\n",
    "plt.show()"
   ]
  },
  {
   "cell_type": "code",
   "execution_count": 17,
   "metadata": {},
   "outputs": [
    {
     "data": {
      "text/plain": [
       "0.0005657154765535444"
      ]
     },
     "execution_count": 17,
     "metadata": {},
     "output_type": "execute_result"
    }
   ],
   "source": [
    "std_moy"
   ]
  },
  {
   "cell_type": "markdown",
   "metadata": {},
   "source": [
    "## Interprétations\n",
    "\n",
    "On constate que la fréquence observée 0.51111 est encore bien plus loin à droite, tellement loin qu'elle sort de notre graphique car très proche de l'infiniment petit, ou plutôt très proche de la probabilité zéro.\n",
    "\n",
    "Faisons-la rentrer dans le graphique de notre loi normale par curiosité :"
   ]
  },
  {
   "cell_type": "code",
   "execution_count": 172,
   "metadata": {},
   "outputs": [
    {
     "data": {
      "image/png": "[encoded data removed]",
      "text/plain": [
       "<matplotlib.figure.Figure at 0x102684390>"
      ]
     },
     "metadata": {},
     "output_type": "display_data"
    }
   ],
   "source": [
    "# On définit des limites permettant de conserver la partie la plus pertinente\n",
    "x_axis = np.arange(0.4981, 0.5111, 0.0001)\n",
    "\n",
    "# Et on plote :)\n",
    "plt.plot(x_axis, norm.pdf(x_axis,p,std_moy))\n",
    "plt.show()"
   ]
  },
  {
   "cell_type": "markdown",
   "metadata": {},
   "source": [
    "C'est loin ! :)"
   ]
  },
  {
   "cell_type": "markdown",
   "metadata": {},
   "source": [
    "## Simulations modifiant la taille de l'échantillon mais conservant la fréquence\n",
    "\n"
   ]
  },
  {
   "cell_type": "code",
   "execution_count": 208,
   "metadata": {},
   "outputs": [
    {
     "name": "stdout",
     "output_type": "stream",
     "text": [
      "\n",
      "    n = 100\n",
      "    hommes = 51\n",
      "    femmes = 49\n",
      "    \n",
      "\n",
      "    n = 1000\n",
      "    hommes = 511\n",
      "    femmes = 489\n",
      "    \n",
      "\n",
      "    n = 10000\n",
      "    hommes = 5111\n",
      "    femmes = 4889\n",
      "    \n"
     ]
    }
   ],
   "source": [
    "echantillons = [100,1000,10000]\n",
    "\n",
    "for x in echantillons:\n",
    "    print(f\"\"\"\n",
    "    n = {x}\n",
    "    hommes = {f_hommes * x:.0f}\n",
    "    femmes = {f_femmes * x:.0f}\n",
    "    \"\"\")"
   ]
  },
  {
   "cell_type": "markdown",
   "metadata": {},
   "source": [
    "## Calcul des p-values à partir des trois échantillons simulés ci-dessus"
   ]
  },
  {
   "cell_type": "code",
   "execution_count": 235,
   "metadata": {},
   "outputs": [
    {
     "name": "stdout",
     "output_type": "stream",
     "text": [
      "\n",
      "        [100 individus]\n",
      "        -\n",
      "        Intervalle de confiance (à titre indicatif)\n",
      "        (0.4020018007729973, 0.5979981992270027)\n",
      "        -\n",
      "        P-Value (utile pour la prise de décision)\n",
      "        0.41186252602093665\n",
      "    \n",
      "\n",
      "        [1000 individus]\n",
      "        -\n",
      "        Intervalle de confiance (à titre indicatif)\n",
      "        (0.4690102483847719, 0.5309897516152281)\n",
      "        -\n",
      "        P-Value (utile pour la prise de décision)\n",
      "        0.24058631362704386\n",
      "    \n",
      "\n",
      "        [10000 individus]\n",
      "        -\n",
      "        Intervalle de confiance (à titre indicatif)\n",
      "        (0.4902001800772997, 0.5097998199227003)\n",
      "        -\n",
      "        P-Value (utile pour la prise de décision)\n",
      "        0.012954779865950616\n",
      "    \n"
     ]
    }
   ],
   "source": [
    "for x in echantillons:\n",
    "    \n",
    "    # On recalcule l'écart-type moyen pour un échantillon de x individus\n",
    "    vx = x * p * (1-p)\n",
    "    stdx = sqrt(vx)\n",
    "    stdx_moy = stdx / x\n",
    "\n",
    "    # On calcule et on affiche l'intervalle de confiance\n",
    "    print(f\"\"\"\n",
    "        [{x} individus]\n",
    "        -\n",
    "        Intervalle de confiance (à titre indicatif)\n",
    "        {norm.interval(0.95, p, stdx_moy)}\n",
    "        -\n",
    "        P-Value (utile pour la prise de décision)\n",
    "        {norm.sf(f, p, stdx_moy)}\n",
    "    \"\"\")"
   ]
  },
  {
   "cell_type": "markdown",
   "metadata": {},
   "source": [
    "---\n",
    "\n",
    "## Question 1\n",
    "\n",
    "#### Donnez la p-valeur du test de probabilité :\n",
    "\n",
    "La p-value est 1.3655295002745935e-86 autrement dit infinie proche de zéro."
   ]
  },
  {
   "cell_type": "markdown",
   "metadata": {},
   "source": [
    "---\n",
    "\n",
    "## Question 2\n",
    "\n",
    "#### Accepte-t-on l'hypothèse d’équiprobabilité des naissances femmes-hommes au niveau de test 5% ?\n",
    "\n",
    "Non, puisque la p-value est bien inférieure à 5%.\n",
    "\n",
    "On rejette H0 et on accepte H1 sans le moindre doute, avec un risque infiniment faible."
   ]
  },
  {
   "cell_type": "markdown",
   "metadata": {},
   "source": [
    "---\n",
    "## Question 3\n",
    "\n",
    "#### Calcul du nombre d'hommes et de femmes avec des échantillons de 100, 1000 et 10000 individus, en conservant la même fréquence observée que sur notre échantillon initial\n",
    "\n",
    "Pour n = 100, nous avons 51 hommes et 49 femmes\n",
    "\n",
    "Pour n = 1000, nous avons 511 hommes et 49 femmes\n",
    "\n",
    "Pour n = 10000, nous avons 5111 hommes et 4889 femmes"
   ]
  },
  {
   "cell_type": "markdown",
   "metadata": {},
   "source": [
    "---\n",
    "\n",
    "## Question 4\n",
    "\n",
    "#### Pour chacun des 3 cas précédents, accepte-t-on l'hypothèse d’équiprobabilité des naissances femmes-hommes au niveau de test 5% ?\n",
    "\n",
    "Pour 100 individus : oui, car la p-value est de 0,4118 (41%) : on accepte P = P0 = 50%\n",
    "\n",
    "Pour 1000 individus : oui, car la p-value est de 0,2405 (24%) : on accepte P = P0 = 50%\n",
    "\n",
    "Pour 10000 individus : non car la p-value est de 0,0129 (1,3%) : in rejette P = P0 = 50%, P est très certainement supérieur."
   ]
  },
  {
   "cell_type": "markdown",
   "metadata": {},
   "source": [
    "---\n",
    "\n",
    "## Conclusion\n",
    "\n",
    "Ce qui nous permet d'affirmer de manière certaine le rejet de H0 dans l'échantillon de départ, c'est sa très grande taille. Mais si nous avions observé la même fréquence sur un petit échantillon, alors on aurait pu accepter l'hypothèse d'une proportion à 50%."
   ]
  }
 ],
 "metadata": {
  "kernelspec": {
   "display_name": "Python 3",
   "language": "python",
   "name": "python3"
  },
  "language_info": {
   "codemirror_mode": {
    "name": "ipython",
    "version": 3
   },
   "file_extension": ".py",
   "mimetype": "text/x-python",
   "name": "python",
   "nbconvert_exporter": "python",
   "pygments_lexer": "ipython3",
   "version": "3.6.5"
  }
 },
 "nbformat": 4,
 "nbformat_minor": 2
}
